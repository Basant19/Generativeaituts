{
 "cells": [
  {
   "cell_type": "code",
   "execution_count": null,
   "id": "b5943b2e",
   "metadata": {},
   "outputs": [],
   "source": [
    "## Built-in Tool - DuckDuckGo Search"
   ]
  },
  {
   "cell_type": "code",
   "execution_count": 4,
   "id": "8b8448b8",
   "metadata": {},
   "outputs": [
    {
     "name": "stdout",
     "output_type": "stream",
     "text": [
      "Top News Stories of the day, Latest News Headlines, News Specials, Breaking News and Latest India News, World current affairs & Political News all around the clock at NDTV.com. Read all India news and breaking news today from India on politics, business, entertainment, technology, sports, lifestyle and more at CNBC TV18. Join Us. ... Top India News. Raja Raghuvanshi murder: Meghalaya Police arrests eighth accused from Gwalior. Jun 27, 2025 9:02 AM IST. Get updated with current top news stories from India and the world only on Zee News. Zee News brings latest news from India and World on breaking news, today news headlines, politics, business, technology, bollywood, entertainment, sports and others. Find exclusive news stories on Indian politics, current affairs, cricket matches, festivals and ... India category India's economy to hold top spot for growth, but underlying weaknesses remain: Reuters poll. ... Reuters, the news and media division of Thomson Reuters, is the world's largest ... Latest News | Find detailed coverage on Latest News at IndianExpress.com. ... They were welcomed into the party fold by All India Congress Committee (AICC) general secretary and J&K in-charge Naseer Hussain, J&K Congress chief Tariq Karra and other senior leaders. ... Scorpio Horoscope Today, 28 June 2025: You seek emotional refuge with your ...\n"
     ]
    }
   ],
   "source": [
    "from langchain_community.tools import DuckDuckGoSearchRun\n",
    "\n",
    "search_tool = DuckDuckGoSearchRun()\n",
    "\n",
    "results = search_tool.invoke('top news in india today')\n",
    "\n",
    "print(results)"
   ]
  },
  {
   "cell_type": "code",
   "execution_count": 5,
   "id": "3cede0fe",
   "metadata": {},
   "outputs": [
    {
     "name": "stdout",
     "output_type": "stream",
     "text": [
      "duckduckgo_search\n",
      "A wrapper around DuckDuckGo Search. Useful for when you need to answer questions about current events. Input should be a search query.\n",
      "{'query': {'description': 'search query to look up', 'title': 'Query', 'type': 'string'}}\n"
     ]
    }
   ],
   "source": [
    "print(search_tool.name)\n",
    "print(search_tool.description)\n",
    "print(search_tool.args)"
   ]
  },
  {
   "cell_type": "code",
   "execution_count": null,
   "id": "481257e6",
   "metadata": {},
   "outputs": [],
   "source": [
    "## Built-in Tool - Shell Tool"
   ]
  },
  {
   "cell_type": "code",
   "execution_count": null,
   "id": "2db32157",
   "metadata": {},
   "outputs": [
    {
     "name": "stdout",
     "output_type": "stream",
     "text": [
      "Executing command:\n",
      " dir\n",
      " Volume in drive D is New Volume\n",
      " Volume Serial Number is 7209-3F99\n",
      "\n",
      " Directory of d:\\Generative_ai_practise\\Basic_model_setup\\tools\\inbuildtools\n",
      "\n",
      "28-06-2025  16:03    <DIR>          .\n",
      "28-06-2025  16:01    <DIR>          ..\n",
      "28-06-2025  16:17             4,133 duckduckgo.ipynb\n",
      "               1 File(s)          4,133 bytes\n",
      "               2 Dir(s)  14,237,741,056 bytes free\n",
      "\n"
     ]
    },
    {
     "name": "stderr",
     "output_type": "stream",
     "text": [
      "d:\\Generative_ai_practise\\Basic_model_setup\\venv\\lib\\site-packages\\langchain_community\\tools\\shell\\tool.py:33: UserWarning: The shell tool has no safeguards by default. Use at your own risk.\n",
      "  warnings.warn(\n"
     ]
    }
   ],
   "source": [
    "from langchain_community.tools import ShellTool\n",
    "\n",
    "shell_tool = ShellTool()\n",
    "\n",
    "results = shell_tool.invoke('cd')\n",
    "\n",
    "print(results)"
   ]
  },
  {
   "cell_type": "code",
   "execution_count": null,
   "id": "8f203d80",
   "metadata": {},
   "outputs": [],
   "source": []
  },
  {
   "cell_type": "code",
   "execution_count": null,
   "id": "01f8420a",
   "metadata": {},
   "outputs": [],
   "source": []
  }
 ],
 "metadata": {
  "kernelspec": {
   "display_name": "Python 3",
   "language": "python",
   "name": "python3"
  },
  "language_info": {
   "codemirror_mode": {
    "name": "ipython",
    "version": 3
   },
   "file_extension": ".py",
   "mimetype": "text/x-python",
   "name": "python",
   "nbconvert_exporter": "python",
   "pygments_lexer": "ipython3",
   "version": "3.10.18"
  }
 },
 "nbformat": 4,
 "nbformat_minor": 5
}
